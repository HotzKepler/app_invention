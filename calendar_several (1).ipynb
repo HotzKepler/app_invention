{
 "cells": [
  {
   "cell_type": "code",
   "execution_count": 7,
   "metadata": {},
   "outputs": [],
   "source": [
    "from apiclient.discovery import build\n",
    "from google_auth_oauthlib.flow import InstalledAppFlow\n",
    "scopes = ['https://www.googleapis.com/auth/calendar']\n",
    "flow = InstalledAppFlow.from_client_secrets_file(\"client_secret.json\", scopes=scopes)\n",
    "import pickle\n",
    "from datetime import datetime, timedelta\n",
    "service = []\n",
    "result = []"
   ]
  },
  {
   "cell_type": "code",
   "execution_count": 2,
   "metadata": {},
   "outputs": [
    {
     "name": "stdout",
     "output_type": "stream",
     "text": [
      "Please visit this URL to authorize this application: https://accounts.google.com/o/oauth2/auth?response_type=code&client_id=389104841980-4nhfdf702k6na9huv3qke0lsn18cqj9m.apps.googleusercontent.com&redirect_uri=urn%3Aietf%3Awg%3Aoauth%3A2.0%3Aoob&scope=https%3A%2F%2Fwww.googleapis.com%2Fauth%2Fcalendar&state=tc8AHLwFjw6mGPwF8MowqHc2eRElMq&prompt=consent&access_type=offline\n",
      "Enter the authorization code: 4/vwEXHp21pI3nHua0E0iEPI3Wp0wS8a1AFG9NjPVHAWoBIHpRKGUuzTo\n",
      "Please visit this URL to authorize this application: https://accounts.google.com/o/oauth2/auth?response_type=code&client_id=389104841980-4nhfdf702k6na9huv3qke0lsn18cqj9m.apps.googleusercontent.com&redirect_uri=urn%3Aietf%3Awg%3Aoauth%3A2.0%3Aoob&scope=https%3A%2F%2Fwww.googleapis.com%2Fauth%2Fcalendar&state=McFB2uJ7lHXVeclPsRKZY4Bgk1oDp2&prompt=consent&access_type=offline\n",
      "Enter the authorization code: 4/vwELhwRiwplaAdWThFcPe33aGqcuFTFXFMK6S1RdhNz4MlMXCi0NCDg\n"
     ]
    }
   ],
   "source": [
    "credential = []\n",
    "for i in range(2):\n",
    "    c = flow.run_console()\n",
    "    credential.append(c)"
   ]
  },
  {
   "cell_type": "code",
   "execution_count": 3,
   "metadata": {},
   "outputs": [],
   "source": [
    "start_time = datetime(2020, 1, 25, 19, 30, 0)\n",
    "end_time = start_time + timedelta(hours=8)\n",
    "timezone = 'Asia/Taipei'\n",
    "event = {\n",
    "  'summary': 'IPL Final 2020',\n",
    "  'location': 'Hyderabad',\n",
    "  'description': 'MI vs TBD',\n",
    "  'start': {\n",
    "    'dateTime': start_time.strftime(\"%Y-%m-%dT%H:%M:%S\"),\n",
    "    'timeZone': timezone,\n",
    "  },\n",
    "  'end': {\n",
    "    'dateTime': end_time.strftime(\"%Y-%m-%dT%H:%M:%S\"),\n",
    "    'timeZone': timezone,\n",
    "  },\n",
    "  'reminders': {\n",
    "    'useDefault': False,\n",
    "    'overrides': [\n",
    "      {'method': 'email', 'minutes': 24 * 60},\n",
    "      {'method': 'popup', 'minutes': 10},\n",
    "    ],\n",
    "  },\n",
    "}"
   ]
  },
  {
   "cell_type": "code",
   "execution_count": 4,
   "metadata": {},
   "outputs": [],
   "source": [
    "i = 0\n",
    "for i in range(2):\n",
    "    pickle.dump(credential[i], open(\"token.pkl\", \"wb\"))\n",
    "    credential[i] = pickle.load(open(\"token.pkl\", \"rb\"))\n",
    "    b = build(\"calendar\", \"v3\", credentials=credential[i])\n",
    "    service.append(b)\n",
    "    r = service[i].calendarList().list().execute()\n",
    "    result.append(r)\n",
    "    calendar_id = result[i]['items'][0]['id']\n",
    "    service[i].events().insert(calendarId=calendar_id, body=event).execute()"
   ]
  }
 ],
 "metadata": {
  "kernelspec": {
   "display_name": "Python 3",
   "language": "python",
   "name": "python3"
  },
  "language_info": {
   "codemirror_mode": {
    "name": "ipython",
    "version": 3
   },
   "file_extension": ".py",
   "mimetype": "text/x-python",
   "name": "python",
   "nbconvert_exporter": "python",
   "pygments_lexer": "ipython3",
   "version": "3.7.4"
  }
 },
 "nbformat": 4,
 "nbformat_minor": 2
}
