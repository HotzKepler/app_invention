{
 "cells": [
  {
   "cell_type": "code",
   "execution_count": 2,
   "metadata": {},
   "outputs": [
    {
     "name": "stdout",
     "output_type": "stream",
     "text": [
      "Please visit this URL to authorize this application: https://accounts.google.com/o/oauth2/auth?response_type=code&client_id=389104841980-4nhfdf702k6na9huv3qke0lsn18cqj9m.apps.googleusercontent.com&redirect_uri=urn%3Aietf%3Awg%3Aoauth%3A2.0%3Aoob&scope=https%3A%2F%2Fwww.googleapis.com%2Fauth%2Fcalendar&state=P5XRMH02GGXv3Vfclfe7VXaQKkbmDU&prompt=consent&access_type=offline\n",
      "Enter the authorization code: 4/wQHBfGR-BLoPJjMznroNFPMIsCI5RHMSYUSt6tchgDPrD6Bjff-PEJQ\n"
     ]
    }
   ],
   "source": [
    "from apiclient.discovery import build\n",
    "from google_auth_oauthlib.flow import InstalledAppFlow\n",
    "import pickle\n",
    "import os\n",
    "\n",
    "#給予可以編輯的權限\n",
    "scopes = ['https://www.googleapis.com/auth/calendar']\n",
    "\n",
    "flow = InstalledAppFlow.from_client_secrets_file(\"client_secret.json\", scopes=scopes)\n",
    "credentials_user = flow.run_console()\n",
    "\n",
    "#將使用者的權限資料存進去token_user.pkl裡面\n",
    "pickle.dump(credentials_user, open(\"token_user.pkl\", \"wb\"))"
   ]
  },
  {
   "cell_type": "code",
   "execution_count": 4,
   "metadata": {},
   "outputs": [],
   "source": [
    "#把user資料拿出來用\n",
    "credential_receiver = pickle.load(open(\"./token_user.pkl\" , \"rb\"))\n",
    "service_receive = build(\"calendar\", \"v3\", credentials = credential_receiver)\n",
    "\n",
    "#把owner資料阿出來用\n",
    "credential_sender = pickle.load(open(\"./token_owner.pkl\" , \"rb\"))\n",
    "service_send = build(\"calendar\", \"v3\", credentials = credential_sender)   \n",
    "\n",
    "#將owner google calendar 中所有行事曆列出來\n",
    "senderCalenderList = service_send.calendarList().list().execute()\n",
    "\n",
    "#找出owner google calendar 中叫做\"2年24班\"的行事曆\n",
    "for calendar in senderCalenderList[\"items\"]:\n",
    "    if calendar[\"summary\"] == \"2年24班\":\n",
    "        calendarId = calendar[\"id\"]\n",
    "\n",
    "#receiverId就是user的帳號\n",
    "receiverId = service_receive.calendarList().get(calendarId = \"primary\").execute()[\"id\"]\n",
    "\n",
    "#對於\"2年24班\"這個行事曆要給user多大的權限\n",
    "#writer：更改的所有權\n",
    "new_acl_rule = {\n",
    "        'scope': {\n",
    "        'type': 'user',\n",
    "        'value': receiverId,\n",
    "    },\n",
    "'role': 'writer'\n",
    "}\n",
    "\n",
    "#執行共用這個步驟\n",
    "target_response = service_send.acl().insert(calendarId = calendarId, body = new_acl_rule, sendNotifications = True).execute()"
   ]
  },
  {
   "cell_type": "code",
   "execution_count": null,
   "metadata": {},
   "outputs": [],
   "source": []
  }
 ],
 "metadata": {
  "kernelspec": {
   "display_name": "Python 3",
   "language": "python",
   "name": "python3"
  },
  "language_info": {
   "codemirror_mode": {
    "name": "ipython",
    "version": 3
   },
   "file_extension": ".py",
   "mimetype": "text/x-python",
   "name": "python",
   "nbconvert_exporter": "python",
   "pygments_lexer": "ipython3",
   "version": "3.7.4"
  }
 },
 "nbformat": 4,
 "nbformat_minor": 2
}
