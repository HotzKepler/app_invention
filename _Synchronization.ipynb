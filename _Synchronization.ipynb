{
 "cells": [
  {
   "cell_type": "code",
   "execution_count": 1,
   "metadata": {},
   "outputs": [],
   "source": [
    "from apiclient.discovery import build\n",
    "from google_auth_oauthlib.flow import InstalledAppFlow\n",
    "scopes = ['https://www.googleapis.com/auth/calendar']\n",
    "flow = InstalledAppFlow.from_client_secrets_file(\"client_secret.json\", scopes=scopes)\n",
    "import pickle\n",
    "from datetime import datetime, timedelta"
   ]
  },
  {
   "cell_type": "code",
   "execution_count": 2,
   "metadata": {},
   "outputs": [
    {
     "name": "stdout",
     "output_type": "stream",
     "text": [
      "Please visit this URL to authorize this application: https://accounts.google.com/o/oauth2/auth?response_type=code&client_id=389104841980-4nhfdf702k6na9huv3qke0lsn18cqj9m.apps.googleusercontent.com&redirect_uri=urn%3Aietf%3Awg%3Aoauth%3A2.0%3Aoob&scope=https%3A%2F%2Fwww.googleapis.com%2Fauth%2Fcalendar&state=A2lhSN4WCGwYueybcxd4tV9d15GuKo&prompt=consent&access_type=offline\n",
      "Enter the authorization code: 4/vwF8ofrWc0EoTNp5MiP_lFIbMVPo2GWIogw1trAv_7PN6t6uCWmb_is\n",
      "Please visit this URL to authorize this application: https://accounts.google.com/o/oauth2/auth?response_type=code&client_id=389104841980-4nhfdf702k6na9huv3qke0lsn18cqj9m.apps.googleusercontent.com&redirect_uri=urn%3Aietf%3Awg%3Aoauth%3A2.0%3Aoob&scope=https%3A%2F%2Fwww.googleapis.com%2Fauth%2Fcalendar&state=ByiWhOTPAbGBBcvhh6PdAJuXrTxESW&prompt=consent&access_type=offline\n",
      "Enter the authorization code: 4/vwFik6ImMdgeZswUOIaJ4oH1UorpG34bIJ-t4_GaZi2MOhOV1k57DCo\n"
     ]
    }
   ],
   "source": [
    "credentials = flow.run_console()\n",
    "credentials2 = flow.run_console()"
   ]
  },
  {
   "cell_type": "code",
   "execution_count": 3,
   "metadata": {},
   "outputs": [],
   "source": [
    "pickle.dump(credentials, open(\"token.pkl\", \"wb\"))\n",
    "credentials = pickle.load(open(\"token.pkl\", \"rb\"))\n",
    "service = build(\"calendar\", \"v3\", credentials=credentials)\n",
    "result = service.calendarList().list().execute()\n",
    "pickle.dump(credentials2, open(\"token.pkl\", \"wb\"))\n",
    "credentials2 = pickle.load(open(\"token.pkl\", \"rb\"))\n",
    "service2 = build(\"calendar\", \"v3\", credentials=credentials2)\n",
    "result2 = service2.calendarList().list().execute()"
   ]
  },
  {
   "cell_type": "code",
   "execution_count": 5,
   "metadata": {},
   "outputs": [
    {
     "name": "stdout",
     "output_type": "stream",
     "text": [
      "2020-01-28T12:00:00+08:00 a\n"
     ]
    }
   ],
   "source": [
    "import datetime\n",
    "now = datetime.datetime.utcnow().isoformat() + 'Z'\n",
    "events_result = service.events().list(calendarId='primary', timeMin=now,\n",
    "                                        maxResults=10, singleEvents=True,\n",
    "                                        orderBy='startTime').execute()\n",
    "events = events_result.get('items', [])\n",
    "for event in events:\n",
    "        start = event['start'].get('dateTime', event['start'].get('date'))\n",
    "        print(start, event['summary'])\n",
    "        service2.events().insert(calendarId=result2['items'][0]['id'], body=event).execute()"
   ]
  },
  {
   "cell_type": "code",
   "execution_count": null,
   "metadata": {},
   "outputs": [],
   "source": [
    "\"\"\"timezone = 'Asia/Taipei'\n",
    "service.events().list(calendarId = result['items'][0]['id']).execute().get('items', [])\n",
    "starts = events[0]['start'].get('dateTime', events[0]['start'].get('date'))\n",
    "ends = events[0]['end'].get('dateTime', events[0]['end'].get('date'))\n",
    "event1 = {\n",
    "  'summary': result['items'][0]['summary'],\n",
    "  'kind': result['items'][0]['kind'],\n",
    "  'start': {\n",
    "    'dateTime': starts,\n",
    "    'timeZone': timezone,\n",
    "  },\n",
    "  'end': {\n",
    "    'dateTime': ends,\n",
    "    'timeZone': timezone,\n",
    "  },\n",
    "  'reminders': {\n",
    "    'useDefault': False,\n",
    "    'overrides': [\n",
    "      {'method': 'email', 'minutes': 24 * 60},\n",
    "      {'method': 'popup', 'minutes': 10},\n",
    "    ],\n",
    "  },\n",
    "}\n",
    "service2.events().insert(calendarId=result2['items'][0]['id'], body=event1).execute()"
   ]
  }
 ],
 "metadata": {
  "kernelspec": {
   "display_name": "Python 3",
   "language": "python",
   "name": "python3"
  },
  "language_info": {
   "codemirror_mode": {
    "name": "ipython",
    "version": 3
   },
   "file_extension": ".py",
   "mimetype": "text/x-python",
   "name": "python",
   "nbconvert_exporter": "python",
   "pygments_lexer": "ipython3",
   "version": "3.7.4"
  }
 },
 "nbformat": 4,
 "nbformat_minor": 2
}
